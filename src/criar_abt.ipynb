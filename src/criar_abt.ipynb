{
  "cells": [
    {
      "cell_type": "markdown",
      "metadata": {
        "id": "Y8ua5QIqzx9r"
      },
      "source": [
        "# **Case Datarisk - Score de Crédito**"
      ]
    },
    {
      "cell_type": "markdown",
      "metadata": {
        "id": "ov72IbtKztcb"
      },
      "source": [
        "## **Importa as bibliotecas e Carrega os Dados**"
      ]
    },
    {
      "cell_type": "code",
      "execution_count": 2,
      "metadata": {
        "id": "psrasy5sn9F5"
      },
      "outputs": [],
      "source": [
        "from utils.RankCountVectorizer import RankCountVectorizer\n",
        "from utils.load_df import load_df\n",
        "from utils.convert_to_datetime import convert_to_datetime\n",
        "\n",
        "import pandas as pd\n",
        "import numpy as np\n",
        "import matplotlib.pyplot as plt\n",
        "import seaborn as sns\n",
        "import matplotlib.ticker as mticker\n",
        "\n",
        "import requests\n",
        "from pathlib import Path\n",
        "\n",
        "from sklearn.metrics import roc_curve"
      ]
    },
    {
      "cell_type": "code",
      "execution_count": 3,
      "metadata": {
        "id": "LoqCUdsKrnS0"
      },
      "outputs": [],
      "source": [
        "# Carregar os DataFrames\n",
        "targets = load_df(\"./data/targets.parquet\")\n",
        "\n",
        "df_cadastral = load_df(\"./data/base_cadastral.parquet\")\n",
        "df_emprestimos = load_df(\"./data/historico_emprestimos.parquet\")\n",
        "df_submissao = load_df(\"./data/base_submissao.parquet\")\n",
        "df_parcelas = load_df(\"./data/historico_parcelas.parquet\")\n",
        "dicionario = load_df(\"./data/dicionario_dados.csv\")"
      ]
    },
    {
      "cell_type": "markdown",
      "metadata": {
        "id": "iVHS2KAbXYam"
      },
      "source": [
        "## **Converter Datas**"
      ]
    },
    {
      "cell_type": "code",
      "execution_count": 4,
      "metadata": {
        "colab": {
          "base_uri": "https://localhost:8080/"
        },
        "collapsed": true,
        "id": "v5UeIN7V_LFR",
        "outputId": "9fef84d0-de2b-4494-b5e9-00587ecf7bc7"
      },
      "outputs": [
        {
          "name": "stdout",
          "output_type": "stream",
          "text": [
            "\n",
            "--- Verificando tipos de dados ANTES da conversão ---\n",
            "data_prevista_pagamento    object\n",
            "data_real_pagamento        object\n",
            "dtype: object\n",
            "\n",
            "--- Verificando tipos de dados DEPOIS da conversão ---\n",
            "data_prevista_pagamento    datetime64[ns]\n",
            "data_real_pagamento        datetime64[ns]\n",
            "dtype: object\n",
            "\n",
            "--- Verificando tipos de dados ANTES da conversão ---\n",
            "data_decisao                       object\n",
            "data_liberacao                     object\n",
            "data_primeiro_vencimento           object\n",
            "data_ultimo_vencimento_original    object\n",
            "data_ultimo_vencimento             object\n",
            "data_encerramento                  object\n",
            "dtype: object\n",
            "\n",
            "--- Verificando tipos de dados DEPOIS da conversão ---\n",
            "data_decisao                       datetime64[ns]\n",
            "data_liberacao                     datetime64[ns]\n",
            "data_primeiro_vencimento           datetime64[ns]\n",
            "data_ultimo_vencimento_original    datetime64[ns]\n",
            "data_ultimo_vencimento             datetime64[ns]\n",
            "data_encerramento                  datetime64[ns]\n",
            "dtype: object\n",
            "\n",
            "--- Verificando tipos de dados ANTES da conversão ---\n",
            "data_nascimento    object\n",
            "dtype: object\n",
            "\n",
            "--- Verificando tipos de dados DEPOIS da conversão ---\n",
            "data_nascimento    datetime64[ns]\n",
            "dtype: object\n"
          ]
        }
      ],
      "source": [
        "# listar as colunas que precisam de conversão em cada DataFrame\n",
        "colunas_data_emprestimos = [\n",
        "    'data_decisao',\n",
        "    'data_liberacao',\n",
        "    'data_primeiro_vencimento',\n",
        "    'data_ultimo_vencimento_original',\n",
        "    'data_ultimo_vencimento',\n",
        "    'data_encerramento'\n",
        "]\n",
        "\n",
        "colunas_data_parcelas = [\n",
        "    'data_prevista_pagamento',\n",
        "    'data_real_pagamento'\n",
        "]\n",
        "\n",
        "colunas_data_cadastral = [\n",
        "    'data_nascimento'\n",
        "]\n",
        "\n",
        "df_parcelas = convert_to_datetime(df_parcelas, colunas_data_parcelas)\n",
        "df_emprestimos = convert_to_datetime(df_emprestimos, colunas_data_emprestimos)\n",
        "df_cadastral = convert_to_datetime(df_cadastral, colunas_data_cadastral)"
      ]
    },
    {
      "cell_type": "markdown",
      "metadata": {
        "id": "QOCX7HrTSs-1"
      },
      "source": [
        "## **Préprocessamento**"
      ]
    },
    {
      "cell_type": "code",
      "execution_count": 5,
      "metadata": {
        "id": "li2nUTJbcVIP"
      },
      "outputs": [],
      "source": [
        "# Calcular a idade dos clientes\n",
        "# Assumindo a data atual como referência para o cálculo da idade\n",
        "data_atual_idade = pd.to_datetime('today')\n",
        "df_cadastral['idade_cliente'] = ((data_atual_idade - df_cadastral['data_nascimento']).dt.days / 365.25).astype(int)\n",
        "\n",
        "# Remover a coluna data_nascimento\n",
        "df_cadastral = df_cadastral.drop(columns=['data_nascimento'])"
      ]
    },
    {
      "cell_type": "code",
      "execution_count": 6,
      "metadata": {
        "id": "uzeD5sI_qXYQ"
      },
      "outputs": [],
      "source": [
        "df_cadastral['reda_por_familiar'] = df_cadastral['renda_anual'] / df_cadastral['qtd_membros_familia']"
      ]
    },
    {
      "cell_type": "code",
      "execution_count": 7,
      "metadata": {
        "colab": {
          "base_uri": "https://localhost:8080/",
          "height": 213
        },
        "id": "ISI5-KomS583",
        "outputId": "e30b96f9-49df-4c16-81db-39e5d9657ede"
      },
      "outputs": [
        {
          "data": {
            "text/plain": [
              "inadimplente\n",
              "0    103007\n",
              "1      4412\n",
              "Name: count, dtype: int64"
            ]
          },
          "execution_count": 7,
          "metadata": {},
          "output_type": "execute_result"
        }
      ],
      "source": [
        "targets['inadimplente'].value_counts()"
      ]
    },
    {
      "cell_type": "code",
      "execution_count": 8,
      "metadata": {
        "id": "wftrrRuzTphj"
      },
      "outputs": [],
      "source": [
        "include_columns = [\n",
        "                  'id_contrato',\n",
        "                  'id_cliente',\n",
        "                  'dia_semana_solicitacao',\n",
        "                  'hora_solicitacao',\n",
        "                  'tipo_contrato',\n",
        "                  'valor_credito',\n",
        "                  'valor_bem',\n",
        "                  'valor_parcela',\n",
        "                  'data_decisao'\n",
        "                  ]\n",
        "\n",
        "df = df_emprestimos.copy()\n",
        "df = df[include_columns]"
      ]
    },
    {
      "cell_type": "code",
      "execution_count": 9,
      "metadata": {
        "id": "2D5kB-VbUt20"
      },
      "outputs": [],
      "source": [
        "df = df.merge(df_cadastral, on='id_cliente', how='left')\n",
        "df = df.merge(targets, on='id_contrato', how='left')"
      ]
    },
    {
      "cell_type": "code",
      "execution_count": 10,
      "metadata": {
        "id": "fvpPTzZuWqxf"
      },
      "outputs": [],
      "source": [
        "df.sort_values('data_decisao', inplace=True)"
      ]
    },
    {
      "cell_type": "code",
      "execution_count": 11,
      "metadata": {
        "id": "ZIL2CqX8YOtD"
      },
      "outputs": [],
      "source": [
        "df.dropna(subset=['inadimplente'], inplace=True)"
      ]
    },
    {
      "cell_type": "code",
      "execution_count": 12,
      "metadata": {
        "colab": {
          "base_uri": "https://localhost:8080/",
          "height": 213
        },
        "id": "2nsqM-f8X3H1",
        "outputId": "7a4ccb0f-5dc9-474a-8495-1add8c2af1d1"
      },
      "outputs": [
        {
          "data": {
            "text/plain": [
              "inadimplente\n",
              "0.0    103007\n",
              "1.0      4412\n",
              "Name: count, dtype: int64"
            ]
          },
          "execution_count": 12,
          "metadata": {},
          "output_type": "execute_result"
        }
      ],
      "source": [
        "df['inadimplente'].value_counts()"
      ]
    },
    {
      "cell_type": "markdown",
      "metadata": {
        "id": "Kr6WjbdQinzD"
      },
      "source": [
        "Extração de Features\n",
        "- Features Cadastrais:\n",
        "  - idade_cliente: Idade do cliente (diferença em anos entre a data atual e a data de nascimento do cliente)\n",
        "  - renda_por_familiar: Quociente entre a renda anual do cliente e a quantidade de membros da sua família\n",
        "  - compormetimento_de_renda: Quociente entre o valor do crédito e a renda anual do cliente\n",
        "- Features históricas:\n",
        "  - num_emp_aceitos_6m: Número de empréstimos solicitados pelo cliente que foram aceitos nos últimos 6 meses\n",
        "  - atraso_medio: Média do número de dias atrasados por cliente até o momento"
      ]
    },
    {
      "cell_type": "code",
      "execution_count": 13,
      "metadata": {
        "id": "sF_6aNdHrAxc"
      },
      "outputs": [],
      "source": [
        "df['comprometimento_renda'] = df['valor_credito'] / df['renda_anual']"
      ]
    },
    {
      "cell_type": "code",
      "execution_count": 14,
      "metadata": {
        "colab": {
          "base_uri": "https://localhost:8080/"
        },
        "collapsed": true,
        "id": "rcicc_GvthVX",
        "outputId": "ea4b7825-60b1-4dd3-f494-b5ccc2c99d44"
      },
      "outputs": [
        {
          "name": "stderr",
          "output_type": "stream",
          "text": [
            "/var/folders/py/_hms0lwn3h70z03wxhxl24jm0000gp/T/ipykernel_10001/798354359.py:25: FutureWarning: A value is trying to be set on a copy of a DataFrame or Series through chained assignment using an inplace method.\n",
            "The behavior will change in pandas 3.0. This inplace method will never work because the intermediate object on which we are setting values always behaves as a copy.\n",
            "\n",
            "For example, when doing 'df[col].method(value, inplace=True)', try using 'df.method({col: value}, inplace=True)' or df[col] = df[col].method(value) instead, to perform the operation inplace on the original object.\n",
            "\n",
            "\n",
            "  df['num_emp_aceitos_6m'].fillna(0, inplace=True)\n"
          ]
        }
      ],
      "source": [
        "df_prev_apps = df_emprestimos[['id_cliente', 'data_decisao', 'status_contrato']].copy()\n",
        "df_prev_apps['data_decisao'] = pd.to_datetime(df_prev_apps['data_decisao'])\n",
        "df_prev_apps.rename(columns={'data_decisao': 'data_decisao_prev'}, inplace=True)\n",
        "\n",
        "# Filter out 'Refused' contracts\n",
        "df_prev_apps = df_prev_apps[df_prev_apps['status_contrato'] != 'Refused'].copy()\n",
        "df_prev_apps.drop(columns=['status_contrato'], inplace=True) # Drop the status_contrato column after filtering\n",
        "\n",
        "# Merge the main dataframe with previous applications\n",
        "df_merged = pd.merge(df, df_prev_apps, on='id_cliente', how='left')\n",
        "\n",
        "# Calculate the time difference between the current decision date and previous decision dates\n",
        "df_merged['time_diff'] = (df_merged['data_decisao'] - df_merged['data_decisao_prev']).dt.days\n",
        "\n",
        "# Filter previous applications within the last 6 months (180 days) and before the current decision date\n",
        "df_filtered = df_merged[(df_merged['time_diff'] > 0) & (df_merged['time_diff'] <= 180)].copy()\n",
        "\n",
        "# Count the number of filtered previous applications for each current contract\n",
        "prev_apps_count = df_filtered.groupby('id_contrato').size().reset_index(name='num_emp_aceitos_6m')\n",
        "\n",
        "# Merge the count back to the main dataframe\n",
        "df = pd.merge(df, prev_apps_count, on='id_contrato', how='left')\n",
        "\n",
        "# Fill NaN values (for contracts with no previous applications in the last 6 months) with 0\n",
        "df['num_emp_aceitos_6m'].fillna(0, inplace=True)\n",
        "\n",
        "# Convert the new column to integer type\n",
        "df['num_emp_aceitos_6m'] = df['num_emp_aceitos_6m'].astype(int)"
      ]
    },
    {
      "cell_type": "code",
      "execution_count": 15,
      "metadata": {
        "colab": {
          "base_uri": "https://localhost:8080/"
        },
        "collapsed": true,
        "id": "9_5A1_HwkiQ3",
        "outputId": "4d358987-c5e1-444f-9b84-bf6a1ce8c585"
      },
      "outputs": [
        {
          "name": "stderr",
          "output_type": "stream",
          "text": [
            "/var/folders/py/_hms0lwn3h70z03wxhxl24jm0000gp/T/ipykernel_10001/445545720.py:18: FutureWarning: A value is trying to be set on a copy of a DataFrame or Series through chained assignment using an inplace method.\n",
            "The behavior will change in pandas 3.0. This inplace method will never work because the intermediate object on which we are setting values always behaves as a copy.\n",
            "\n",
            "For example, when doing 'df[col].method(value, inplace=True)', try using 'df.method({col: value}, inplace=True)' or df[col] = df[col].method(value) instead, to perform the operation inplace on the original object.\n",
            "\n",
            "\n",
            "  df['atraso_medio'].fillna(0, inplace=True)\n"
          ]
        }
      ],
      "source": [
        "# Merge df_parcelas with df to get data_decisao for each contract\n",
        "df_prev_atraso = pd.merge(df_parcelas, df[['id_contrato', 'data_decisao']], on='id_contrato', how='left')\n",
        "\n",
        "# Filter parcels to include only those before the contract's data_decisao\n",
        "df_prev_atraso_filtered = df_prev_atraso[df_prev_atraso['data_prevista_pagamento'] < df_prev_atraso['data_decisao']].copy()\n",
        "\n",
        "# Calculate the delay, clipping at 0 for early payments\n",
        "df_prev_atraso_filtered['atraso'] = (df_prev_atraso_filtered['data_real_pagamento'] - df_prev_atraso_filtered['data_prevista_pagamento']).dt.days.clip(lower=0)\n",
        "\n",
        "# Calculate the mean delay for each client based on filtered parcels\n",
        "df_prev_atraso_agg = df_prev_atraso_filtered.groupby('id_cliente')['atraso'].mean().reset_index()\n",
        "\n",
        "# Rename the column and merge back to the main dataframe\n",
        "df_prev_atraso_agg.rename(columns={'atraso': 'atraso_medio'}, inplace=True)\n",
        "df = pd.merge(df, df_prev_atraso_agg, on='id_cliente', how='left')\n",
        "\n",
        "# Fill NaN values (for clients with no previous parcels before data_decisao) with 0\n",
        "df['atraso_medio'].fillna(0, inplace=True)"
      ]
    },
    {
      "cell_type": "code",
      "execution_count": 16,
      "metadata": {
        "id": "euXG290XtHa9"
      },
      "outputs": [],
      "source": [
        "drop_columns = ['sexo', 'data_decisao', 'id_contrato', 'id_cliente']\n",
        "\n",
        "df = df.drop(columns = drop_columns)"
      ]
    },
    {
      "cell_type": "markdown",
      "metadata": {
        "id": "fcu-YuVLshZM"
      },
      "source": [
        "### **Separação entre treino e teste**"
      ]
    },
    {
      "cell_type": "code",
      "execution_count": null,
      "metadata": {
        "id": "b7S3EnioZnM9"
      },
      "outputs": [],
      "source": [
        "from sklearn.model_selection import train_test_split\n",
        "\n",
        "# Separar variáveis explicativas e target\n",
        "y = df['inadimplente']\n",
        "X = df.drop('inadimplente', axis=1)\n",
        "\n",
        "# Dividir os dados em treinamento e teste\n",
        "X_train, X_test, y_train, y_test = train_test_split(X, y, test_size=0.2, random_state=42, stratify=y)"
      ]
    },
    {
      "cell_type": "code",
      "execution_count": 18,
      "metadata": {
        "id": "54T5AqDgcHrL"
      },
      "outputs": [],
      "source": [
        "cat_cols = X_train.select_dtypes(include=['object']).columns"
      ]
    },
    {
      "cell_type": "code",
      "execution_count": 19,
      "metadata": {
        "colab": {
          "base_uri": "https://localhost:8080/"
        },
        "collapsed": true,
        "id": "kOSVE6NnbXEi",
        "outputId": "329e9abe-f93f-4a47-f52a-de71585e8a38"
      },
      "outputs": [
        {
          "name": "stderr",
          "output_type": "stream",
          "text": [
            "/Users/jvlm/repositories/case-ds/src/utils/RankCountVectorizer.py:107: FutureWarning: A value is trying to be set on a copy of a DataFrame or Series through chained assignment using an inplace method.\n",
            "The behavior will change in pandas 3.0. This inplace method will never work because the intermediate object on which we are setting values always behaves as a copy.\n",
            "\n",
            "For example, when doing 'df[col].method(value, inplace=True)', try using 'df.method({col: value}, inplace=True)' or df[col] = df[col].method(value) instead, to perform the operation inplace on the original object.\n",
            "\n",
            "\n",
            "  df[col].fillna(-999, inplace=True)\n"
          ]
        }
      ],
      "source": [
        "rankVectorizer = RankCountVectorizer()\n",
        "\n",
        "X_train = rankVectorizer.fit_transform(X_train, cols=cat_cols)\n",
        "X_test = rankVectorizer.transform(X_test, cols=cat_cols)"
      ]
    },
    {
      "cell_type": "code",
      "execution_count": 21,
      "metadata": {},
      "outputs": [],
      "source": [
        "df_train = X_train.copy()\n",
        "df_train['inadimplente'] = y_train\n",
        "\n",
        "df_test = X_test.copy()\n",
        "df_test['inadimplente'] = y_test\n",
        "\n",
        "df_train.to_parquet(\"./data/train.parquet\", index=False)\n",
        "df_test.to_parquet(\"./data/test.parquet\", index=False)"
      ]
    }
  ],
  "metadata": {
    "colab": {
      "collapsed_sections": [
        "zajQ48NDOIAk"
      ],
      "provenance": []
    },
    "kernelspec": {
      "display_name": "case-ds (3.13.2)",
      "language": "python",
      "name": "python3"
    },
    "language_info": {
      "codemirror_mode": {
        "name": "ipython",
        "version": 3
      },
      "file_extension": ".py",
      "mimetype": "text/x-python",
      "name": "python",
      "nbconvert_exporter": "python",
      "pygments_lexer": "ipython3",
      "version": "3.13.2"
    }
  },
  "nbformat": 4,
  "nbformat_minor": 0
}
